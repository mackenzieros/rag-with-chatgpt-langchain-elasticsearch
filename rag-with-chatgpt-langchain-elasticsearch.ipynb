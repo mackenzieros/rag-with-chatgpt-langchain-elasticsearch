{
 "cells": [
  {
   "cell_type": "code",
   "execution_count": 1,
   "id": "28d4c523-eb5b-4a05-bfc1-4d54d2302884",
   "metadata": {},
   "outputs": [],
   "source": [
    "!python3 -m pip install -qU elasticsearch==8.14.0 langchain langchain_community langchain_huggingface langchain-openai \\ sentence_transformers openai pypdf python-dotenv"
   ]
  },
  {
   "cell_type": "code",
   "execution_count": 2,
   "id": "81171b33-b239-4bfc-8d91-31eaf8ef073a",
   "metadata": {},
   "outputs": [],
   "source": [
    "from IPython.display import display\n",
    "from dotenv import load_dotenv\n",
    "from getpass import getpass\n",
    "from urllib.request import urlretrieve\n",
    "from enum import Enum\n",
    "import os"
   ]
  },
  {
   "cell_type": "code",
   "execution_count": 3,
   "id": "9d2bbb33-d1ca-41fc-a820-9771f42f73b0",
   "metadata": {},
   "outputs": [
    {
     "name": "stdout",
     "output_type": "stream",
     "text": [
      "es_connection: DOCKER\n"
     ]
    }
   ],
   "source": [
    "class ESConnection(Enum):\n",
    "    NONE = 0\n",
    "    BINARY = 1\n",
    "    DOCKER = 2\n",
    "    CLOUD = 3\n",
    "\n",
    "es_connection = ESConnection.DOCKER\n",
    "print(f\"es_connection: {es_connection.name}\")"
   ]
  },
  {
   "cell_type": "code",
   "execution_count": 4,
   "id": "f229c54a-8dd7-4657-baa7-e4a1e47de8c7",
   "metadata": {},
   "outputs": [
    {
     "name": "stdout",
     "output_type": "stream",
     "text": [
      "{'name': 'es01', 'cluster_name': 'docker-cluster', 'cluster_uuid': 'ntcsaqKXQRGBVMVrOYCtxQ', 'version': {'number': '8.14.3', 'build_flavor': 'default', 'build_type': 'docker', 'build_hash': 'd55f984299e0e88dee72ebd8255f7ff130859ad0', 'build_date': '2024-07-07T22:04:49.882652950Z', 'build_snapshot': False, 'lucene_version': '9.10.0', 'minimum_wire_compatibility_version': '7.17.0', 'minimum_index_compatibility_version': '7.0.0'}, 'tagline': 'You Know, for Search'}\n"
     ]
    }
   ],
   "source": [
    "from elasticsearch import Elasticsearch\n",
    "\n",
    "# Load variables from .env file\n",
    "load_dotenv('.env')\n",
    "\n",
    "# Set local variables\n",
    "OPENAI_API_KEY = os.getenv('OPENAI_API_KEY')\n",
    "ELASTIC_CLOUD_ID = os.getenv('ELASTIC_CLOUD_ID')\n",
    "ELASTIC_API_KEY = os.getenv('ELASTIC_API_KEY')\n",
    "ELASTICSEARCH_URL = os.getenv('ELASTICSEARCH_URL')\n",
    "\n",
    "# Determine the connection data to pass to the client init\n",
    "if ELASTICSEARCH_URL:\n",
    "    elasticsearch_client = Elasticsearch(\n",
    "        hosts=[ELASTICSEARCH_URL],\n",
    "    )\n",
    "elif ELASTIC_CLOUD_ID:\n",
    "    elasticsearch_client = Elasticsearch(\n",
    "        cloud_id=ELASTIC_CLOUD_ID, api_key=ELASTIC_API_KEY\n",
    "    )\n",
    "else:\n",
    "    raise ValueError(\n",
    "        \"Please provide either ELASTICSEARCH_URL or ELASTIC_CLOUD_ID and ELASTIC_API_KEY\"\n",
    "    )\n",
    "\n",
    "print(elasticsearch_client.info())"
   ]
  },
  {
   "cell_type": "code",
   "execution_count": 5,
   "id": "1a61d913-873b-43ca-af4e-603c7a52a1e6",
   "metadata": {},
   "outputs": [],
   "source": [
    "from langchain.document_loaders import PyPDFLoader\n",
    "from urllib.request import urlretrieve\n",
    "from os.path import exists\n",
    "\n",
    "file_exists = exists(\"./data/usc03@118-22.pdf\")\n",
    "if not file_exists:\n",
    "    # get the us code pdf on the president and unzip it\n",
    "    url = \"https://uscode.house.gov/download/releasepoints/us/pl/118/22u1/pdf_usc03@118-22u1.zip\"\n",
    "    file_name = \"./data/president.pdf.zip\"\n",
    "    urlretrieve(url, file_name)\n",
    "    !unzip president.pdf.zip\n",
    "    \n",
    "# now load the pdf as text and break it into pages\n",
    "loader = PyPDFLoader(\"./data/usc03@118-22.pdf\")\n",
    "pages = loader.load_and_split()"
   ]
  },
  {
   "cell_type": "code",
   "execution_count": 6,
   "id": "1c86329f-a77e-4375-9c4a-23265fd693de",
   "metadata": {},
   "outputs": [
    {
     "name": "stderr",
     "output_type": "stream",
     "text": [
      "/Library/Frameworks/Python.framework/Versions/3.12/lib/python3.12/site-packages/sentence_transformers/cross_encoder/CrossEncoder.py:11: TqdmExperimentalWarning: Using `tqdm.autonotebook.tqdm` in notebook mode. Use `tqdm.tqdm` instead to force console mode (e.g. in jupyter console)\n",
      "  from tqdm.autonotebook import tqdm, trange\n"
     ]
    },
    {
     "data": {
      "text/plain": [
       "<langchain_community.vectorstores.elasticsearch.ElasticsearchStore at 0x15cdab9e0>"
      ]
     },
     "execution_count": 6,
     "metadata": {},
     "output_type": "execute_result"
    }
   ],
   "source": [
    "from langchain_huggingface import HuggingFaceEmbeddings\n",
    "from langchain.vectorstores import ElasticsearchStore\n",
    "\n",
    "# set our embedding model\n",
    "embeddings = HuggingFaceEmbeddings(model_name=\"all-MiniLM-L6-v2\")\n",
    "\n",
    "# instantiate vectore store from documents\n",
    "esVectorStore = ElasticsearchStore.from_documents(\n",
    "    pages,\n",
    "    es_connection=elasticsearch_client,\n",
    "    index_name=\"the-president\",\n",
    "    embedding=embeddings\n",
    ")\n",
    "\n",
    "# verify the ElasticsearchStore was created\n",
    "esVectorStore"
   ]
  },
  {
   "cell_type": "code",
   "execution_count": 7,
   "id": "eb38d8fe-4ba9-40e7-bb72-512e370d570a",
   "metadata": {},
   "outputs": [],
   "source": [
    "def showResults(results):\n",
    "    print(\"Total results: \", len(results))\n",
    "    for i in range(len(results)):\n",
    "        print(results[i])"
   ]
  },
  {
   "cell_type": "code",
   "execution_count": 8,
   "id": "5c771001-9531-4cdd-8fcd-01571a3615c9",
   "metadata": {},
   "outputs": [
    {
     "name": "stdout",
     "output_type": "stream",
     "text": [
      "Total results:  4\n",
      "page_content='Pub. L. 117–328, §110(b), inserted \"under section 15(d)(2)(C)(i)\" after \"motion to withdraw\".\n",
      "1954—Act Sept. 3, 1954, substituted \"chapter\" for \"subchapter\".\n",
      "§19. Vacancy in offices of both President and Vice President; officers eligible to\n",
      "act\n",
      "(a)(1) If, by reason of death, resignation, removal from office, inability, or failure to qualify, there\n",
      "is neither a President nor Vice President to discharge the powers and duties of the office of President,\n",
      "then the Speaker of the House of Representatives shall, upon his resignation as Speaker and as\n",
      "Representative in Congress, act as President.\n",
      "(2) The same rule shall apply in the case of the death, resignation, removal from office, or inability\n",
      "of an individual acting as President under this subsection.\n",
      "(b) If, at the time when under subsection (a) of this section a Speaker is to begin the discharge of\n",
      "the powers and duties of the office of President, there is no Speaker, or the Speaker fails to qualify as\n",
      "Acting President, then the President pro tempore of the Senate shall, upon his resignation as\n",
      "President pro tempore and as Senator, act as President.\n",
      "(c) An individual acting as President under subsection (a) or subsection (b) of this section shall\n",
      "continue to act until the expiration of the then current Presidential term, except that—\n",
      "(1) if his discharge of the powers and duties of the office is founded in whole or in part on the\n",
      "failure of both the President-elect and the Vice-President-elect to qualify, then he shall act only\n",
      "until a President or Vice President qualifies; and\n",
      "(2) if his discharge of the powers and duties of the office is founded in whole or in part on the\n",
      "inability of the President or Vice President, then he shall act only until the removal of the\n",
      "disability of one of such individuals.\n",
      "(d)(1) If, by reason of death, resignation, removal from office, inability, or failure to qualify, there\n",
      "is no President pro tempore to act as President under subsection (b) of this section, then the officer of\n",
      "the United States who is highest on the following list, and who is not under disability to discharge\n",
      "the powers and duties of the office of President shall act as President: Secretary of State, Secretary of\n",
      "the Treasury, Secretary of Defense, Attorney General, Secretary of the Interior, Secretary of\n",
      "Agriculture, Secretary of Commerce, Secretary of Labor, Secretary of Health and Human Services,\n",
      "Secretary of Housing and Urban Development, Secretary of Transportation, Secretary of Energy,\n",
      "Secretary of Education, Secretary of Veterans Affairs, Secretary of Homeland Security.\n",
      "(2) An individual acting as President under this subsection shall continue so to do until the\n",
      "expiration of the then current Presidential term, but not after a qualified and prior-entitled individual\n",
      "is able to act, except that the removal of the disability of an individual higher on the list contained in\n",
      "paragraph (1) of this subsection or the ability to qualify on the part of an individual higher on such\n",
      "list shall not terminate his service.\n",
      "(3) The taking of the oath of office by an individual specified in the list in paragraph (1) of this\n",
      "subsection shall be held to constitute his resignation from the office by virtue of the holding of which\n",
      "he qualifies to act as President.\n",
      "(e) Subsections (a), (b), and (d) of this section shall apply only to such officers as are eligible to\n",
      "the office of President under the Constitution. Subsection (d) of this section shall apply only to\n",
      "officers appointed, by and with the advice and consent of the Senate, prior to the time of the death,\n",
      "resignation, removal from office, inability, or failure to qualify, of the President pro tempore, and\n",
      "only to officers not under impeachment by the House of Representatives at the time the powers and\n",
      "duties of the office of President devolve upon them.\n",
      "(f) During the period that any individual acts as President under this section, his compensation\n",
      "shall be at the rate then provided by law in the case of the President.' metadata={'source': 'usc03@118-22.pdf', 'page': 14}\n",
      "page_content='Pub. L. 117–328, §110(b), inserted \"under section 15(d)(2)(C)(i)\" after \"motion to withdraw\".\n",
      "1954—Act Sept. 3, 1954, substituted \"chapter\" for \"subchapter\".\n",
      "§19. Vacancy in offices of both President and Vice President; officers eligible to\n",
      "act\n",
      "(a)(1) If, by reason of death, resignation, removal from office, inability, or failure to qualify, there\n",
      "is neither a President nor Vice President to discharge the powers and duties of the office of President,\n",
      "then the Speaker of the House of Representatives shall, upon his resignation as Speaker and as\n",
      "Representative in Congress, act as President.\n",
      "(2) The same rule shall apply in the case of the death, resignation, removal from office, or inability\n",
      "of an individual acting as President under this subsection.\n",
      "(b) If, at the time when under subsection (a) of this section a Speaker is to begin the discharge of\n",
      "the powers and duties of the office of President, there is no Speaker, or the Speaker fails to qualify as\n",
      "Acting President, then the President pro tempore of the Senate shall, upon his resignation as\n",
      "President pro tempore and as Senator, act as President.\n",
      "(c) An individual acting as President under subsection (a) or subsection (b) of this section shall\n",
      "continue to act until the expiration of the then current Presidential term, except that—\n",
      "(1) if his discharge of the powers and duties of the office is founded in whole or in part on the\n",
      "failure of both the President-elect and the Vice-President-elect to qualify, then he shall act only\n",
      "until a President or Vice President qualifies; and\n",
      "(2) if his discharge of the powers and duties of the office is founded in whole or in part on the\n",
      "inability of the President or Vice President, then he shall act only until the removal of the\n",
      "disability of one of such individuals.\n",
      "(d)(1) If, by reason of death, resignation, removal from office, inability, or failure to qualify, there\n",
      "is no President pro tempore to act as President under subsection (b) of this section, then the officer of\n",
      "the United States who is highest on the following list, and who is not under disability to discharge\n",
      "the powers and duties of the office of President shall act as President: Secretary of State, Secretary of\n",
      "the Treasury, Secretary of Defense, Attorney General, Secretary of the Interior, Secretary of\n",
      "Agriculture, Secretary of Commerce, Secretary of Labor, Secretary of Health and Human Services,\n",
      "Secretary of Housing and Urban Development, Secretary of Transportation, Secretary of Energy,\n",
      "Secretary of Education, Secretary of Veterans Affairs, Secretary of Homeland Security.\n",
      "(2) An individual acting as President under this subsection shall continue so to do until the\n",
      "expiration of the then current Presidential term, but not after a qualified and prior-entitled individual\n",
      "is able to act, except that the removal of the disability of an individual higher on the list contained in\n",
      "paragraph (1) of this subsection or the ability to qualify on the part of an individual higher on such\n",
      "list shall not terminate his service.\n",
      "(3) The taking of the oath of office by an individual specified in the list in paragraph (1) of this\n",
      "subsection shall be held to constitute his resignation from the office by virtue of the holding of which\n",
      "he qualifies to act as President.\n",
      "(e) Subsections (a), (b), and (d) of this section shall apply only to such officers as are eligible to\n",
      "the office of President under the Constitution. Subsection (d) of this section shall apply only to\n",
      "officers appointed, by and with the advice and consent of the Senate, prior to the time of the death,\n",
      "resignation, removal from office, inability, or failure to qualify, of the President pro tempore, and\n",
      "only to officers not under impeachment by the House of Representatives at the time the powers and\n",
      "duties of the office of President devolve upon them.\n",
      "(f) During the period that any individual acts as President under this section, his compensation\n",
      "shall be at the rate then provided by law in the case of the President.' metadata={'source': 'usc03@118-22.pdf', 'page': 14}\n",
      "page_content='Pub. L. 117–328, §110(b), inserted \"under section 15(d)(2)(C)(i)\" after \"motion to withdraw\".\n",
      "1954—Act Sept. 3, 1954, substituted \"chapter\" for \"subchapter\".\n",
      "§19. Vacancy in offices of both President and Vice President; officers eligible to\n",
      "act\n",
      "(a)(1) If, by reason of death, resignation, removal from office, inability, or failure to qualify, there\n",
      "is neither a President nor Vice President to discharge the powers and duties of the office of President,\n",
      "then the Speaker of the House of Representatives shall, upon his resignation as Speaker and as\n",
      "Representative in Congress, act as President.\n",
      "(2) The same rule shall apply in the case of the death, resignation, removal from office, or inability\n",
      "of an individual acting as President under this subsection.\n",
      "(b) If, at the time when under subsection (a) of this section a Speaker is to begin the discharge of\n",
      "the powers and duties of the office of President, there is no Speaker, or the Speaker fails to qualify as\n",
      "Acting President, then the President pro tempore of the Senate shall, upon his resignation as\n",
      "President pro tempore and as Senator, act as President.\n",
      "(c) An individual acting as President under subsection (a) or subsection (b) of this section shall\n",
      "continue to act until the expiration of the then current Presidential term, except that—\n",
      "(1) if his discharge of the powers and duties of the office is founded in whole or in part on the\n",
      "failure of both the President-elect and the Vice-President-elect to qualify, then he shall act only\n",
      "until a President or Vice President qualifies; and\n",
      "(2) if his discharge of the powers and duties of the office is founded in whole or in part on the\n",
      "inability of the President or Vice President, then he shall act only until the removal of the\n",
      "disability of one of such individuals.\n",
      "(d)(1) If, by reason of death, resignation, removal from office, inability, or failure to qualify, there\n",
      "is no President pro tempore to act as President under subsection (b) of this section, then the officer of\n",
      "the United States who is highest on the following list, and who is not under disability to discharge\n",
      "the powers and duties of the office of President shall act as President: Secretary of State, Secretary of\n",
      "the Treasury, Secretary of Defense, Attorney General, Secretary of the Interior, Secretary of\n",
      "Agriculture, Secretary of Commerce, Secretary of Labor, Secretary of Health and Human Services,\n",
      "Secretary of Housing and Urban Development, Secretary of Transportation, Secretary of Energy,\n",
      "Secretary of Education, Secretary of Veterans Affairs, Secretary of Homeland Security.\n",
      "(2) An individual acting as President under this subsection shall continue so to do until the\n",
      "expiration of the then current Presidential term, but not after a qualified and prior-entitled individual\n",
      "is able to act, except that the removal of the disability of an individual higher on the list contained in\n",
      "paragraph (1) of this subsection or the ability to qualify on the part of an individual higher on such\n",
      "list shall not terminate his service.\n",
      "(3) The taking of the oath of office by an individual specified in the list in paragraph (1) of this\n",
      "subsection shall be held to constitute his resignation from the office by virtue of the holding of which\n",
      "he qualifies to act as President.\n",
      "(e) Subsections (a), (b), and (d) of this section shall apply only to such officers as are eligible to\n",
      "the office of President under the Constitution. Subsection (d) of this section shall apply only to\n",
      "officers appointed, by and with the advice and consent of the Senate, prior to the time of the death,\n",
      "resignation, removal from office, inability, or failure to qualify, of the President pro tempore, and\n",
      "only to officers not under impeachment by the House of Representatives at the time the powers and\n",
      "duties of the office of President devolve upon them.\n",
      "(f) During the period that any individual acts as President under this section, his compensation\n",
      "shall be at the rate then provided by law in the case of the President.' metadata={'source': 'usc03@118-22.pdf', 'page': 14}\n",
      "page_content='Pub. L. 117–328, §110(b), inserted \"under section 15(d)(2)(C)(i)\" after \"motion to withdraw\".\n",
      "1954—Act Sept. 3, 1954, substituted \"chapter\" for \"subchapter\".\n",
      "§19. Vacancy in offices of both President and Vice President; officers eligible to\n",
      "act\n",
      "(a)(1) If, by reason of death, resignation, removal from office, inability, or failure to qualify, there\n",
      "is neither a President nor Vice President to discharge the powers and duties of the office of President,\n",
      "then the Speaker of the House of Representatives shall, upon his resignation as Speaker and as\n",
      "Representative in Congress, act as President.\n",
      "(2) The same rule shall apply in the case of the death, resignation, removal from office, or inability\n",
      "of an individual acting as President under this subsection.\n",
      "(b) If, at the time when under subsection (a) of this section a Speaker is to begin the discharge of\n",
      "the powers and duties of the office of President, there is no Speaker, or the Speaker fails to qualify as\n",
      "Acting President, then the President pro tempore of the Senate shall, upon his resignation as\n",
      "President pro tempore and as Senator, act as President.\n",
      "(c) An individual acting as President under subsection (a) or subsection (b) of this section shall\n",
      "continue to act until the expiration of the then current Presidential term, except that—\n",
      "(1) if his discharge of the powers and duties of the office is founded in whole or in part on the\n",
      "failure of both the President-elect and the Vice-President-elect to qualify, then he shall act only\n",
      "until a President or Vice President qualifies; and\n",
      "(2) if his discharge of the powers and duties of the office is founded in whole or in part on the\n",
      "inability of the President or Vice President, then he shall act only until the removal of the\n",
      "disability of one of such individuals.\n",
      "(d)(1) If, by reason of death, resignation, removal from office, inability, or failure to qualify, there\n",
      "is no President pro tempore to act as President under subsection (b) of this section, then the officer of\n",
      "the United States who is highest on the following list, and who is not under disability to discharge\n",
      "the powers and duties of the office of President shall act as President: Secretary of State, Secretary of\n",
      "the Treasury, Secretary of Defense, Attorney General, Secretary of the Interior, Secretary of\n",
      "Agriculture, Secretary of Commerce, Secretary of Labor, Secretary of Health and Human Services,\n",
      "Secretary of Housing and Urban Development, Secretary of Transportation, Secretary of Energy,\n",
      "Secretary of Education, Secretary of Veterans Affairs, Secretary of Homeland Security.\n",
      "(2) An individual acting as President under this subsection shall continue so to do until the\n",
      "expiration of the then current Presidential term, but not after a qualified and prior-entitled individual\n",
      "is able to act, except that the removal of the disability of an individual higher on the list contained in\n",
      "paragraph (1) of this subsection or the ability to qualify on the part of an individual higher on such\n",
      "list shall not terminate his service.\n",
      "(3) The taking of the oath of office by an individual specified in the list in paragraph (1) of this\n",
      "subsection shall be held to constitute his resignation from the office by virtue of the holding of which\n",
      "he qualifies to act as President.\n",
      "(e) Subsections (a), (b), and (d) of this section shall apply only to such officers as are eligible to\n",
      "the office of President under the Constitution. Subsection (d) of this section shall apply only to\n",
      "officers appointed, by and with the advice and consent of the Senate, prior to the time of the death,\n",
      "resignation, removal from office, inability, or failure to qualify, of the President pro tempore, and\n",
      "only to officers not under impeachment by the House of Representatives at the time the powers and\n",
      "duties of the office of President devolve upon them.\n",
      "(f) During the period that any individual acts as President under this section, his compensation\n",
      "shall be at the rate then provided by law in the case of the President.' metadata={'source': 'usc03@118-22.pdf', 'page': 14}\n"
     ]
    }
   ],
   "source": [
    "query = \"who succeeds the president\"\n",
    "result = esVectorStore.similarity_search(query=query)\n",
    "\n",
    "showResults(result)"
   ]
  },
  {
   "cell_type": "code",
   "execution_count": 9,
   "id": "462204c1-3e0c-40a7-a997-04d37741ebaf",
   "metadata": {},
   "outputs": [
    {
     "name": "stdin",
     "output_type": "stream",
     "text": [
      "Question:  What are the president's duties?\n"
     ]
    },
    {
     "name": "stdout",
     "output_type": "stream",
     "text": [
      "\n",
      "\n"
     ]
    },
    {
     "name": "stderr",
     "output_type": "stream",
     "text": [
      "huggingface/tokenizers: The current process just got forked, after parallelism has already been used. Disabling parallelism to avoid deadlocks...\n",
      "To disable this warning, you can either:\n",
      "\t- Avoid using `tokenizers` before the fork if possible\n",
      "\t- Explicitly set the environment variable TOKENIZERS_PARALLELISM=(true | false)\n"
     ]
    },
    {
     "data": {
      "text/plain": [
       "\"Answer: The president's duties include appointing and fixing the pay of employees for the Domestic Policy Staff and the Office of Administration, as well as procuring temporary or intermittent services of experts and consultants as needed. Additionally, the president is authorized to employ individuals in the Office of Administration in accordance with specific provisions of law.\""
      ]
     },
     "metadata": {},
     "output_type": "display_data"
    }
   ],
   "source": [
    "from langchain.prompts import ChatPromptTemplate\n",
    "from langchain_openai import ChatOpenAI\n",
    "from langchain.schema.output_parser import StrOutputParser\n",
    "from langchain.schema.runnable import RunnablePassthrough\n",
    "\n",
    "retriever = esVectorStore.as_retriever(search_kwargs={\"k\": 3})\n",
    "\n",
    "template = \"\"\"Answer the question with the following context:\n",
    "{context}\n",
    "\n",
    "Question: {question}\n",
    "\"\"\"\n",
    "\n",
    "prompt = ChatPromptTemplate.from_template(template)\n",
    "\n",
    "chain = (\n",
    "    {\"context\": retriever, \"question\": RunnablePassthrough()}\n",
    "    | prompt\n",
    "    | ChatOpenAI(openai_api_key=OPENAI_API_KEY)\n",
    "    | StrOutputParser()\n",
    ")\n",
    "\n",
    "q = input(\"Question: \") or \"what is the electoral college?\"\n",
    "print(\"\\n\")\n",
    "reply = chain.invoke(q)\n",
    "display(\"Answer: \" + reply)"
   ]
  },
  {
   "cell_type": "code",
   "execution_count": null,
   "id": "916de083-4be8-4de8-97a9-9dbec91e41d3",
   "metadata": {},
   "outputs": [],
   "source": []
  }
 ],
 "metadata": {
  "kernelspec": {
   "display_name": "Python 3 (ipykernel)",
   "language": "python",
   "name": "python3"
  },
  "language_info": {
   "codemirror_mode": {
    "name": "ipython",
    "version": 3
   },
   "file_extension": ".py",
   "mimetype": "text/x-python",
   "name": "python",
   "nbconvert_exporter": "python",
   "pygments_lexer": "ipython3",
   "version": "3.12.1"
  }
 },
 "nbformat": 4,
 "nbformat_minor": 5
}
