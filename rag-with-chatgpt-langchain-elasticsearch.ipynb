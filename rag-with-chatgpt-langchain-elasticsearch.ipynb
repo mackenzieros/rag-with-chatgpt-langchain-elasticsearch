{
 "cells": [
  {
   "cell_type": "code",
   "execution_count": 5,
   "id": "28d4c523-eb5b-4a05-bfc1-4d54d2302884",
   "metadata": {},
   "outputs": [],
   "source": [
    "!python3 -m pip install -qU elasticsearch==8.14.0 langchain \\ sentence_transformers openai pypdf python-dotenv"
   ]
  },
  {
   "cell_type": "code",
   "execution_count": 6,
   "id": "81171b33-b239-4bfc-8d91-31eaf8ef073a",
   "metadata": {},
   "outputs": [],
   "source": [
    "from IPython.display import display\n",
    "from dotenv import load_dotenv\n",
    "from getpass import getpass\n",
    "from urllib.request import urlretrieve\n",
    "from enum import Enum\n",
    "import os"
   ]
  },
  {
   "cell_type": "code",
   "execution_count": 7,
   "id": "9d2bbb33-d1ca-41fc-a820-9771f42f73b0",
   "metadata": {},
   "outputs": [
    {
     "name": "stdout",
     "output_type": "stream",
     "text": [
      "es_connection: DOCKER\n"
     ]
    }
   ],
   "source": [
    "class ESConnection(Enum):\n",
    "    NONE = 0\n",
    "    BINARY = 1\n",
    "    DOCKER = 2\n",
    "    CLOUD = 3\n",
    "\n",
    "es_connection = ESConnection.DOCKER\n",
    "print(f\"es_connection: {es_connection.name}\")"
   ]
  },
  {
   "cell_type": "code",
   "execution_count": 8,
   "id": "f229c54a-8dd7-4657-baa7-e4a1e47de8c7",
   "metadata": {},
   "outputs": [
    {
     "name": "stdout",
     "output_type": "stream",
     "text": [
      "{'name': 'es01', 'cluster_name': 'docker-cluster', 'cluster_uuid': 'ntcsaqKXQRGBVMVrOYCtxQ', 'version': {'number': '8.14.3', 'build_flavor': 'default', 'build_type': 'docker', 'build_hash': 'd55f984299e0e88dee72ebd8255f7ff130859ad0', 'build_date': '2024-07-07T22:04:49.882652950Z', 'build_snapshot': False, 'lucene_version': '9.10.0', 'minimum_wire_compatibility_version': '7.17.0', 'minimum_index_compatibility_version': '7.0.0'}, 'tagline': 'You Know, for Search'}\n"
     ]
    }
   ],
   "source": [
    "from elasticsearch import Elasticsearch\n",
    "\n",
    "# Load variables from .env file\n",
    "load_dotenv('.env')\n",
    "\n",
    "# Set local variables\n",
    "OPENAI_API_KEY = os.getenv('OPENAI_API_KEY')\n",
    "ELASTIC_CLOUD_ID = os.getenv('ELASTIC_CLOUD_ID')\n",
    "ELASTIC_API_KEY = os.getenv('ELASTIC_API_KEY')\n",
    "ELASTICSEARCH_URL = os.getenv('ELASTICSEARCH_URL')\n",
    "\n",
    "# Determine the connection data to pass to the client init\n",
    "if ELASTICSEARCH_URL:\n",
    "    elasticsearch_client = Elasticsearch(\n",
    "        hosts=[ELASTICSEARCH_URL],\n",
    "    )\n",
    "elif ELASTIC_CLOUD_ID:\n",
    "    elasticsearch_client = Elasticsearch(\n",
    "        cloud_id=ELASTIC_CLOUD_ID, api_key=ELASTIC_API_KEY\n",
    "    )\n",
    "else:\n",
    "    raise ValueError(\n",
    "        \"Please provide either ELASTICSEARCH_URL or ELASTIC_CLOUD_ID and ELASTIC_API_KEY\"\n",
    "    )\n",
    "\n",
    "print(elasticsearch_client.info())"
   ]
  },
  {
   "cell_type": "code",
   "execution_count": null,
   "id": "1a61d913-873b-43ca-af4e-603c7a52a1e6",
   "metadata": {},
   "outputs": [],
   "source": []
  }
 ],
 "metadata": {
  "kernelspec": {
   "display_name": "Python 3 (ipykernel)",
   "language": "python",
   "name": "python3"
  },
  "language_info": {
   "codemirror_mode": {
    "name": "ipython",
    "version": 3
   },
   "file_extension": ".py",
   "mimetype": "text/x-python",
   "name": "python",
   "nbconvert_exporter": "python",
   "pygments_lexer": "ipython3",
   "version": "3.12.1"
  }
 },
 "nbformat": 4,
 "nbformat_minor": 5
}
